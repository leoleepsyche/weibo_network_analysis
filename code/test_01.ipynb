{
 "cells": [
  {
   "cell_type": "code",
   "execution_count": 53,
   "id": "initial_id",
   "metadata": {
    "collapsed": true,
    "ExecuteTime": {
     "end_time": "2025-07-17T14:42:55.377343Z",
     "start_time": "2025-07-17T14:42:55.373981Z"
    }
   },
   "outputs": [],
   "source": [
    "import os\n",
    "\n",
    "import pandas as pd"
   ]
  },
  {
   "cell_type": "code",
   "execution_count": 54,
   "outputs": [],
   "source": [
    "df_1 = pd.read_csv(\"/Users/gengliu/Document/research/network /data/爬虫数据/结果文件/A股/A股.csv\")"
   ],
   "metadata": {
    "collapsed": false,
    "ExecuteTime": {
     "end_time": "2025-07-17T14:42:55.567808Z",
     "start_time": "2025-07-17T14:42:55.526390Z"
    }
   },
   "id": "1331a8525f9a43a5"
  },
  {
   "cell_type": "code",
   "execution_count": 55,
   "outputs": [],
   "source": [
    "### combine all those data together.\n",
    "## I need to read all the data, and use thier name as keyword and exclude its.csv \n",
    "## read a certain n"
   ],
   "metadata": {
    "collapsed": false,
    "ExecuteTime": {
     "end_time": "2025-07-17T14:42:55.689761Z",
     "start_time": "2025-07-17T14:42:55.686479Z"
    }
   },
   "id": "e3710bd840ff5ce1"
  },
  {
   "cell_type": "code",
   "execution_count": 56,
   "outputs": [
    {
     "data": {
      "text/plain": "Index(['id', 'bid', 'user_id', '用户昵称', '微博正文', '头条文章url', '发布位置', '艾特用户', '话题',\n       '转发数', '评论数', '点赞数', '发布时间', '发布工具', '微博图片url', '微博视频url', 'retweet_id',\n       'ip', 'user_authentication', '会员类型', '会员等级'],\n      dtype='object')"
     },
     "execution_count": 56,
     "metadata": {},
     "output_type": "execute_result"
    }
   ],
   "source": [
    "df_1.columns"
   ],
   "metadata": {
    "collapsed": false,
    "ExecuteTime": {
     "end_time": "2025-07-17T14:42:55.850957Z",
     "start_time": "2025-07-17T14:42:55.846715Z"
    }
   },
   "id": "c572abfccc9c9ba9"
  },
  {
   "cell_type": "code",
   "execution_count": 57,
   "outputs": [],
   "source": [
    "import glob"
   ],
   "metadata": {
    "collapsed": false,
    "ExecuteTime": {
     "end_time": "2025-07-17T14:42:56.013584Z",
     "start_time": "2025-07-17T14:42:56.011285Z"
    }
   },
   "id": "9a81e0f4a6213f68"
  },
  {
   "cell_type": "code",
   "execution_count": 65,
   "outputs": [
    {
     "name": "stdout",
     "output_type": "stream",
     "text": [
      "[PosixPath('data/all_data.csv'), PosixPath('data/爬虫数据/结果文件/合作/合作.csv'), PosixPath('data/爬虫数据/结果文件/经济/经济.csv'), PosixPath('data/爬虫数据/结果文件/全球股市/全球股市.csv'), PosixPath('data/爬虫数据/结果文件/半导体/半导体.csv'), PosixPath('data/爬虫数据/结果文件/反制/反制.csv'), PosixPath('data/爬虫数据/结果文件/豁免/豁免.csv'), PosixPath('data/爬虫数据/结果文件/A股/A股.csv'), PosixPath('data/爬虫数据/结果文件/抗议/抗议.csv'), PosixPath('data/爬虫数据/结果文件/保护主义/保护主义.csv'), PosixPath('data/爬虫数据/结果文件/进口/进口.csv'), PosixPath('data/爬虫数据/结果文件/黄金/黄金.csv'), PosixPath('data/爬虫数据/结果文件/芯片/芯片.csv'), PosixPath('data/爬虫数据/结果文件/汽车/汽车.csv'), PosixPath('data/爬虫数据/结果文件/多边贸易/多边贸易.csv'), PosixPath('data/爬虫数据/结果文件/贸易战/贸易战.csv'), PosixPath('data/爬虫数据/结果文件/稀土/稀土.csv'), PosixPath('data/爬虫数据/结果文件/贸易政策/贸易政策.csv'), PosixPath('data/爬虫数据/结果文件/失业/失业.csv'), PosixPath('data/爬虫数据/结果文件/拜登/拜登.csv'), PosixPath('data/爬虫数据/结果文件/出口/出口.csv'), PosixPath('data/爬虫数据/结果文件/美国/美国.csv'), PosixPath('data/爬虫数据/结果文件/供应链/供应链.csv'), PosixPath('data/爬虫数据/结果文件/外贸/外贸.csv'), PosixPath('data/爬虫数据/结果文件/进口替代/进口替代.csv'), PosixPath('data/爬虫数据/结果文件/关税政策/关税政策.csv'), PosixPath('data/爬虫数据/结果文件/特朗普/特朗普.csv'), PosixPath('data/爬虫数据/结果文件/关税/关税.csv'), PosixPath('data/爬虫数据/结果文件/中美达成协议/中美达成协议.csv'), PosixPath('data/爬虫数据/结果文件/WTO/WTO.csv'), PosixPath('data/爬虫数据/结果文件/壁垒/壁垒.csv')]\n"
     ]
    }
   ],
   "source": [
    "from pathlib import Path\n",
    "all_files = list(Path(\".\").rglob(\"*.csv\"))\n",
    "print(all_files)"
   ],
   "metadata": {
    "collapsed": false,
    "ExecuteTime": {
     "end_time": "2025-07-17T14:45:12.145204Z",
     "start_time": "2025-07-17T14:45:12.136533Z"
    }
   },
   "id": "f82345d9acb16617"
  },
  {
   "cell_type": "markdown",
   "source": [
    "folder_name = path.split(\"/\")[-2]"
   ],
   "metadata": {
    "collapsed": false
   },
   "id": "737804582d69144b"
  },
  {
   "cell_type": "code",
   "execution_count": 59,
   "outputs": [],
   "source": [
    "flist= []\n",
    "for filename in all_files:\n",
    "    df = pd.read_csv(filename, index_col=None, header=0)\n",
    "    keyword = str(filename).split(\"/\")[-2]\n",
    "    df['keyword'] = keyword\n",
    "    flist.append(df)\n",
    "df_out = pd.concat(flist, axis=0, ignore_index=False)"
   ],
   "metadata": {
    "collapsed": false,
    "ExecuteTime": {
     "end_time": "2025-07-17T14:42:58.008929Z",
     "start_time": "2025-07-17T14:42:57.452237Z"
    }
   },
   "id": "95d2e481b042ce6a"
  },
  {
   "cell_type": "code",
   "execution_count": 60,
   "outputs": [],
   "source": [
    "column_mapping = {\n",
    "    '用户昵称': 'user_nickname',          # 用户昵称，例如微博显示名\n",
    "    '微博正文': 'post_text',              # 微博正文内容\n",
    "    '头条文章url': 'headline_article_url', # 微博附带的头条文章链接\n",
    "    '发布位置': 'post_location',          # 发送微博时的定位信息\n",
    "    '艾特用户': 'mentioned_users',        # 被 @ 的用户名列表\n",
    "    '话题': 'hashtags',                  # 微博话题，如 #中国经济#\n",
    "    '转发数': 'repost_count',             # 被转发的次数\n",
    "    '评论数': 'comment_count',           # 评论数\n",
    "    '点赞数': 'like_count',              # 点赞数\n",
    "    '发布时间': 'post_time',              # 发布时间，格式如 2024-01-01 12:00:00\n",
    "    '发布工具': 'post_tool',              # 设备来源，例如 iPhone 客户端\n",
    "    '微博图片url': 'image_urls',         # 微博附带图片的链接（可能是列表或字符串）\n",
    "    '微博视频url': 'video_urls',         # 微博附带视频的链接\n",
    "    '会员类型': 'vip_type',              # 微博会员类型，如普通用户、年费会员\n",
    "    '会员等级': 'vip_level',             # 微博会员等级，通常是数字\n",
    "    'user_authentication': 'user_authentication',  # 认证信息，如\"微博认证用户\"\n",
    "    'keyword': 'topic_keyword'           # 来源文件或话题关键词（你加的）\n",
    "}\n"
   ],
   "metadata": {
    "collapsed": false,
    "ExecuteTime": {
     "end_time": "2025-07-17T14:42:58.972947Z",
     "start_time": "2025-07-17T14:42:58.967839Z"
    }
   },
   "id": "7d8ceac0a07a0afb"
  },
  {
   "cell_type": "code",
   "execution_count": 61,
   "outputs": [],
   "source": [
    "df_out = df_out.rename(columns=column_mapping)"
   ],
   "metadata": {
    "collapsed": false,
    "ExecuteTime": {
     "end_time": "2025-07-17T14:42:59.805972Z",
     "start_time": "2025-07-17T14:42:59.785714Z"
    }
   },
   "id": "5dbbe2a798ec0f8e"
  },
  {
   "cell_type": "code",
   "execution_count": 63,
   "outputs": [],
   "source": [
    "df_out.to_csv(\"data/all_data.csv\",index=False)"
   ],
   "metadata": {
    "collapsed": false,
    "ExecuteTime": {
     "end_time": "2025-07-17T14:44:07.808950Z",
     "start_time": "2025-07-17T14:44:07.447851Z"
    }
   },
   "id": "668bc7aadec4f44e"
  },
  {
   "cell_type": "code",
   "execution_count": 64,
   "outputs": [
    {
     "data": {
      "text/plain": "                   id        bid     user_id    user_nickname  \\\n0    5150771982373820  PliOi9Xxq  7480633980              姜颜浠   \n1    5150771982895549  PliOic9gp  1770691990             百事中国   \n2    5150771981325359  PliOi5yML  7747860255       Rainsto丨絨雪   \n3    5150771981584134  PliOi6E6y  6968573175  等等益生菌吧_yshenjjj   \n4    5150771981587785  PliOi6F3r  7749351688         好运angel-   \n..                ...        ...         ...              ...   \n990  5181215204448318  Py4MgiFd4  1771499260         聆00风雨00听   \n991  5181213996227049  Py4Kjq7Wh  7869147877      永远forever66   \n992  5181213934619645  Py4KdjnMp  6820835362             猫尾逗号   \n993  5181213560280323  Py4JC1aVl  6310315180          xiao-肥肉   \n994  5181213162869369  Py4IYc2s9  7752533607         鳄鱼豹豹eeee   \n\n                                             post_text headline_article_url  \\\n0    每日一善超话⭐#每日一善#⭐#阳光信用#做事情要三思而行，要有前瞻的眼光与判断，要考虑到是否...                  NaN   \n1    #渴望就可能#，渴望就发生！2025，百事可乐携手@登陆少年组合正式发布全新品牌年度主题曲《...                  NaN   \n2    0000人生最大的喜悦，就是遇见彼此同频道的那一盏明灯，你点燃我的激情，我点燃你的梦想；你照...                  NaN   \n3    人生最大的喜悦，就是遇见彼此同频道的那一盏明灯，你点燃我的激情，我点燃你的梦想；你照亮我的前...                  NaN   \n4    朱志鑫超话🐥#阳光信用#⭐#每日一善#💛#熊猫守护者#💙#森林驿站#晚安@曹国伟养权重我们都...                  NaN   \n..                                                 ...                  ...   \n990  《0516第1期：《歌手2025》开启全新竞演规则，八位首发歌手蓄势待发》节目突破地域与代际...                  NaN   \n991  光遇陪玩团避雷超话代发🆔阴痕kise共号死不承认拿去二共主人公：阴痕kisev：原v：Feb...                  NaN   \n992  我蘸着暮色与晨露，在泛着旧墨水气息的信笺上，写下无法投递的密语。字句是藤蔓，悄然缠绕心尖，开...                  NaN   \n993  #辛勤猪的打工日志#我要戒骄戒躁，别想着一口吃成个胖子，如果是这么快就能被我掌握消化的，还能...                  NaN   \n994                     刘耀文周边中转站超话自行壁垒@好的宁宁5宝们保护好自己的口袋                  NaN   \n\n    post_location                                    mentioned_users  \\\n0             NaN                              TOP登陆少年-苏新皓,陈飞宇Arthur   \n1             NaN                                             登陆少年组合   \n2             NaN                                                NaN   \n3             NaN                                                NaN   \n4             NaN  曹国伟,微公益,大自然保护协会TNC,熊猫守护者,小象未来成长计划,中国儿童少年基金会,中华...   \n..            ...                                                ...   \n990           NaN                                                NaN   \n991           NaN                                                163   \n992           NaN                                                NaN   \n993           NaN                                                NaN   \n994           NaN                                              好的宁宁5   \n\n                                           hashtags  repost_count  ...  \\\n0                               每日一善,阳光信用,阳光信用 每日一善             0  ...   \n1                                             渴望就可能        199675  ...   \n2                                               NaN             0  ...   \n3                                         阳光信用,每日一善             0  ...   \n4    阳光信用,每日一善,熊猫守护者,森林驿站,微博权重怎么看,阳光信用值怎么看,微博权重拯救计划             0  ...   \n..                                              ...           ...  ...   \n990                                             NaN             0  ...   \n991                                             NaN             0  ...   \n992                        马嘉祺香飘飘meco品牌代言人,全能音乐人马嘉祺             0  ...   \n993                                        辛勤猪的打工日志             0  ...   \n994                                             NaN             0  ...   \n\n            post_time    post_tool  \\\n0    2025-04-02 00:00       每日一善超话   \n1    2025-04-02 00:00        微博网页版   \n2    2025-04-02 00:00  RainAndroid   \n3    2025-04-02 00:00       每日一善超话   \n4    2025-04-02 00:00        朱志鑫超话   \n..                ...          ...   \n990  2025-06-25 00:10         咪咕视频   \n991  2025-06-25 00:05    光遇陪玩团避雷超话   \n992  2025-06-25 00:05        马嘉祺超话   \n993  2025-06-25 00:03    iPhone客户端   \n994  2025-06-25 00:02   刘耀文周边中转站超话   \n\n                                            image_urls video_urls retweet_id  \\\n0    https://wx3.sinaimg.cn/large/008afYCMly1i01ogu...        NaN        NaN   \n1    https://wx4.sinaimg.cn/large/698a9d96gy1i01kv3...        NaN        NaN   \n2                                                  NaN        NaN        NaN   \n3    https://wx1.sinaimg.cn/large/007BBqdxgy1hzvwxe...        NaN        NaN   \n4    https://wx2.sinaimg.cn/large/008srunmly1i01q0p...        NaN        NaN   \n..                                                 ...        ...        ...   \n990  https://wx1.sinaimg.cn/large/6996eefcgy1i2qvgj...        NaN        NaN   \n991  https://wx2.sinaimg.cn/large/008Ay8PXly1i2qvbc...        NaN        NaN   \n992  https://wx3.sinaimg.cn/large/007rBwRAly1i2qtwd...        NaN        NaN   \n993                                                NaN        NaN        NaN   \n994  https://wx1.sinaimg.cn/large/008sEQ8Dgy1i2qv82...        NaN        NaN   \n\n     ip  user_authentication vip_type vip_level topic_keyword  \n0    河北                   黄V       会员       6.0            合作  \n1    上海                   蓝V       会员       7.0            合作  \n2    四川                   黄V       会员       5.0            合作  \n3    四川                   黄V       会员       3.0            合作  \n4    山东                   黄V       会员       3.0            合作  \n..   ..                  ...      ...       ...           ...  \n990  湖北                 普通用户      非会员       0.0            壁垒  \n991  天津                   黄V       会员       5.0            壁垒  \n992  山东                   红V     超级会员       1.0            壁垒  \n993  江苏                 普通用户      非会员       0.0            壁垒  \n994  海南                 普通用户      非会员       0.0            壁垒  \n\n[32579 rows x 22 columns]",
      "text/html": "<div>\n<style scoped>\n    .dataframe tbody tr th:only-of-type {\n        vertical-align: middle;\n    }\n\n    .dataframe tbody tr th {\n        vertical-align: top;\n    }\n\n    .dataframe thead th {\n        text-align: right;\n    }\n</style>\n<table border=\"1\" class=\"dataframe\">\n  <thead>\n    <tr style=\"text-align: right;\">\n      <th></th>\n      <th>id</th>\n      <th>bid</th>\n      <th>user_id</th>\n      <th>user_nickname</th>\n      <th>post_text</th>\n      <th>headline_article_url</th>\n      <th>post_location</th>\n      <th>mentioned_users</th>\n      <th>hashtags</th>\n      <th>repost_count</th>\n      <th>...</th>\n      <th>post_time</th>\n      <th>post_tool</th>\n      <th>image_urls</th>\n      <th>video_urls</th>\n      <th>retweet_id</th>\n      <th>ip</th>\n      <th>user_authentication</th>\n      <th>vip_type</th>\n      <th>vip_level</th>\n      <th>topic_keyword</th>\n    </tr>\n  </thead>\n  <tbody>\n    <tr>\n      <th>0</th>\n      <td>5150771982373820</td>\n      <td>PliOi9Xxq</td>\n      <td>7480633980</td>\n      <td>姜颜浠</td>\n      <td>每日一善超话⭐#每日一善#⭐#阳光信用#做事情要三思而行，要有前瞻的眼光与判断，要考虑到是否...</td>\n      <td>NaN</td>\n      <td>NaN</td>\n      <td>TOP登陆少年-苏新皓,陈飞宇Arthur</td>\n      <td>每日一善,阳光信用,阳光信用 每日一善</td>\n      <td>0</td>\n      <td>...</td>\n      <td>2025-04-02 00:00</td>\n      <td>每日一善超话</td>\n      <td>https://wx3.sinaimg.cn/large/008afYCMly1i01ogu...</td>\n      <td>NaN</td>\n      <td>NaN</td>\n      <td>河北</td>\n      <td>黄V</td>\n      <td>会员</td>\n      <td>6.0</td>\n      <td>合作</td>\n    </tr>\n    <tr>\n      <th>1</th>\n      <td>5150771982895549</td>\n      <td>PliOic9gp</td>\n      <td>1770691990</td>\n      <td>百事中国</td>\n      <td>#渴望就可能#，渴望就发生！2025，百事可乐携手@登陆少年组合正式发布全新品牌年度主题曲《...</td>\n      <td>NaN</td>\n      <td>NaN</td>\n      <td>登陆少年组合</td>\n      <td>渴望就可能</td>\n      <td>199675</td>\n      <td>...</td>\n      <td>2025-04-02 00:00</td>\n      <td>微博网页版</td>\n      <td>https://wx4.sinaimg.cn/large/698a9d96gy1i01kv3...</td>\n      <td>NaN</td>\n      <td>NaN</td>\n      <td>上海</td>\n      <td>蓝V</td>\n      <td>会员</td>\n      <td>7.0</td>\n      <td>合作</td>\n    </tr>\n    <tr>\n      <th>2</th>\n      <td>5150771981325359</td>\n      <td>PliOi5yML</td>\n      <td>7747860255</td>\n      <td>Rainsto丨絨雪</td>\n      <td>0000人生最大的喜悦，就是遇见彼此同频道的那一盏明灯，你点燃我的激情，我点燃你的梦想；你照...</td>\n      <td>NaN</td>\n      <td>NaN</td>\n      <td>NaN</td>\n      <td>NaN</td>\n      <td>0</td>\n      <td>...</td>\n      <td>2025-04-02 00:00</td>\n      <td>RainAndroid</td>\n      <td>NaN</td>\n      <td>NaN</td>\n      <td>NaN</td>\n      <td>四川</td>\n      <td>黄V</td>\n      <td>会员</td>\n      <td>5.0</td>\n      <td>合作</td>\n    </tr>\n    <tr>\n      <th>3</th>\n      <td>5150771981584134</td>\n      <td>PliOi6E6y</td>\n      <td>6968573175</td>\n      <td>等等益生菌吧_yshenjjj</td>\n      <td>人生最大的喜悦，就是遇见彼此同频道的那一盏明灯，你点燃我的激情，我点燃你的梦想；你照亮我的前...</td>\n      <td>NaN</td>\n      <td>NaN</td>\n      <td>NaN</td>\n      <td>阳光信用,每日一善</td>\n      <td>0</td>\n      <td>...</td>\n      <td>2025-04-02 00:00</td>\n      <td>每日一善超话</td>\n      <td>https://wx1.sinaimg.cn/large/007BBqdxgy1hzvwxe...</td>\n      <td>NaN</td>\n      <td>NaN</td>\n      <td>四川</td>\n      <td>黄V</td>\n      <td>会员</td>\n      <td>3.0</td>\n      <td>合作</td>\n    </tr>\n    <tr>\n      <th>4</th>\n      <td>5150771981587785</td>\n      <td>PliOi6F3r</td>\n      <td>7749351688</td>\n      <td>好运angel-</td>\n      <td>朱志鑫超话🐥#阳光信用#⭐#每日一善#💛#熊猫守护者#💙#森林驿站#晚安@曹国伟养权重我们都...</td>\n      <td>NaN</td>\n      <td>NaN</td>\n      <td>曹国伟,微公益,大自然保护协会TNC,熊猫守护者,小象未来成长计划,中国儿童少年基金会,中华...</td>\n      <td>阳光信用,每日一善,熊猫守护者,森林驿站,微博权重怎么看,阳光信用值怎么看,微博权重拯救计划</td>\n      <td>0</td>\n      <td>...</td>\n      <td>2025-04-02 00:00</td>\n      <td>朱志鑫超话</td>\n      <td>https://wx2.sinaimg.cn/large/008srunmly1i01q0p...</td>\n      <td>NaN</td>\n      <td>NaN</td>\n      <td>山东</td>\n      <td>黄V</td>\n      <td>会员</td>\n      <td>3.0</td>\n      <td>合作</td>\n    </tr>\n    <tr>\n      <th>...</th>\n      <td>...</td>\n      <td>...</td>\n      <td>...</td>\n      <td>...</td>\n      <td>...</td>\n      <td>...</td>\n      <td>...</td>\n      <td>...</td>\n      <td>...</td>\n      <td>...</td>\n      <td>...</td>\n      <td>...</td>\n      <td>...</td>\n      <td>...</td>\n      <td>...</td>\n      <td>...</td>\n      <td>...</td>\n      <td>...</td>\n      <td>...</td>\n      <td>...</td>\n      <td>...</td>\n    </tr>\n    <tr>\n      <th>990</th>\n      <td>5181215204448318</td>\n      <td>Py4MgiFd4</td>\n      <td>1771499260</td>\n      <td>聆00风雨00听</td>\n      <td>《0516第1期：《歌手2025》开启全新竞演规则，八位首发歌手蓄势待发》节目突破地域与代际...</td>\n      <td>NaN</td>\n      <td>NaN</td>\n      <td>NaN</td>\n      <td>NaN</td>\n      <td>0</td>\n      <td>...</td>\n      <td>2025-06-25 00:10</td>\n      <td>咪咕视频</td>\n      <td>https://wx1.sinaimg.cn/large/6996eefcgy1i2qvgj...</td>\n      <td>NaN</td>\n      <td>NaN</td>\n      <td>湖北</td>\n      <td>普通用户</td>\n      <td>非会员</td>\n      <td>0.0</td>\n      <td>壁垒</td>\n    </tr>\n    <tr>\n      <th>991</th>\n      <td>5181213996227049</td>\n      <td>Py4Kjq7Wh</td>\n      <td>7869147877</td>\n      <td>永远forever66</td>\n      <td>光遇陪玩团避雷超话代发🆔阴痕kise共号死不承认拿去二共主人公：阴痕kisev：原v：Feb...</td>\n      <td>NaN</td>\n      <td>NaN</td>\n      <td>163</td>\n      <td>NaN</td>\n      <td>0</td>\n      <td>...</td>\n      <td>2025-06-25 00:05</td>\n      <td>光遇陪玩团避雷超话</td>\n      <td>https://wx2.sinaimg.cn/large/008Ay8PXly1i2qvbc...</td>\n      <td>NaN</td>\n      <td>NaN</td>\n      <td>天津</td>\n      <td>黄V</td>\n      <td>会员</td>\n      <td>5.0</td>\n      <td>壁垒</td>\n    </tr>\n    <tr>\n      <th>992</th>\n      <td>5181213934619645</td>\n      <td>Py4KdjnMp</td>\n      <td>6820835362</td>\n      <td>猫尾逗号</td>\n      <td>我蘸着暮色与晨露，在泛着旧墨水气息的信笺上，写下无法投递的密语。字句是藤蔓，悄然缠绕心尖，开...</td>\n      <td>NaN</td>\n      <td>NaN</td>\n      <td>NaN</td>\n      <td>马嘉祺香飘飘meco品牌代言人,全能音乐人马嘉祺</td>\n      <td>0</td>\n      <td>...</td>\n      <td>2025-06-25 00:05</td>\n      <td>马嘉祺超话</td>\n      <td>https://wx3.sinaimg.cn/large/007rBwRAly1i2qtwd...</td>\n      <td>NaN</td>\n      <td>NaN</td>\n      <td>山东</td>\n      <td>红V</td>\n      <td>超级会员</td>\n      <td>1.0</td>\n      <td>壁垒</td>\n    </tr>\n    <tr>\n      <th>993</th>\n      <td>5181213560280323</td>\n      <td>Py4JC1aVl</td>\n      <td>6310315180</td>\n      <td>xiao-肥肉</td>\n      <td>#辛勤猪的打工日志#我要戒骄戒躁，别想着一口吃成个胖子，如果是这么快就能被我掌握消化的，还能...</td>\n      <td>NaN</td>\n      <td>NaN</td>\n      <td>NaN</td>\n      <td>辛勤猪的打工日志</td>\n      <td>0</td>\n      <td>...</td>\n      <td>2025-06-25 00:03</td>\n      <td>iPhone客户端</td>\n      <td>NaN</td>\n      <td>NaN</td>\n      <td>NaN</td>\n      <td>江苏</td>\n      <td>普通用户</td>\n      <td>非会员</td>\n      <td>0.0</td>\n      <td>壁垒</td>\n    </tr>\n    <tr>\n      <th>994</th>\n      <td>5181213162869369</td>\n      <td>Py4IYc2s9</td>\n      <td>7752533607</td>\n      <td>鳄鱼豹豹eeee</td>\n      <td>刘耀文周边中转站超话自行壁垒@好的宁宁5宝们保护好自己的口袋</td>\n      <td>NaN</td>\n      <td>NaN</td>\n      <td>好的宁宁5</td>\n      <td>NaN</td>\n      <td>0</td>\n      <td>...</td>\n      <td>2025-06-25 00:02</td>\n      <td>刘耀文周边中转站超话</td>\n      <td>https://wx1.sinaimg.cn/large/008sEQ8Dgy1i2qv82...</td>\n      <td>NaN</td>\n      <td>NaN</td>\n      <td>海南</td>\n      <td>普通用户</td>\n      <td>非会员</td>\n      <td>0.0</td>\n      <td>壁垒</td>\n    </tr>\n  </tbody>\n</table>\n<p>32579 rows × 22 columns</p>\n</div>"
     },
     "execution_count": 64,
     "metadata": {},
     "output_type": "execute_result"
    }
   ],
   "source": [
    "df_out"
   ],
   "metadata": {
    "collapsed": false,
    "ExecuteTime": {
     "end_time": "2025-07-17T14:44:10.428089Z",
     "start_time": "2025-07-17T14:44:10.396923Z"
    }
   },
   "id": "bab8afaea97369ca"
  },
  {
   "cell_type": "code",
   "execution_count": 67,
   "outputs": [
    {
     "data": {
      "text/plain": "retweet_id\n5.159372e+15    12\n5.159983e+15    12\n5.161569e+15    10\n5.160180e+15     7\n5.156082e+15     5\n                ..\n5.161585e+15     1\n5.160544e+15     1\n5.162226e+15     1\n5.156857e+15     1\n5.158729e+15     1\nName: count, Length: 91, dtype: int64"
     },
     "execution_count": 67,
     "metadata": {},
     "output_type": "execute_result"
    }
   ],
   "source": [],
   "metadata": {
    "collapsed": false,
    "ExecuteTime": {
     "end_time": "2025-07-17T14:48:56.430341Z",
     "start_time": "2025-07-17T14:48:56.426485Z"
    }
   },
   "id": "a34373fa6ee4407d"
  },
  {
   "cell_type": "code",
   "execution_count": null,
   "outputs": [],
   "source": [],
   "metadata": {
    "collapsed": false
   },
   "id": "62304d40ebf1988a"
  }
 ],
 "metadata": {
  "kernelspec": {
   "display_name": "Python 3",
   "language": "python",
   "name": "python3"
  },
  "language_info": {
   "codemirror_mode": {
    "name": "ipython",
    "version": 2
   },
   "file_extension": ".py",
   "mimetype": "text/x-python",
   "name": "python",
   "nbconvert_exporter": "python",
   "pygments_lexer": "ipython2",
   "version": "2.7.6"
  }
 },
 "nbformat": 4,
 "nbformat_minor": 5
}
